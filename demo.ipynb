{
 "cells": [
  {
   "cell_type": "markdown",
   "source": [
    "# Import"
   ],
   "metadata": {
    "collapsed": false
   },
   "id": "9769a9bd5e32f7c0"
  },
  {
   "cell_type": "code",
   "execution_count": 19,
   "outputs": [],
   "source": [
    "from pathlib import Path\n",
    "import  time, argparse\n",
    "import csv, sys\n",
    "import pandas as pd\n",
    "import os\n",
    "import re\n",
    "import uuid\n",
    "from selenium import webdriver\n",
    "from selenium.webdriver.edge.options import Options\n",
    "from selenium.webdriver.edge.service import Service\n",
    "from selenium.webdriver.common.action_chains import ActionChains\n",
    "from selenium import webdriver\n",
    "from selenium.webdriver.support.ui import WebDriverWait\n",
    "from selenium.webdriver.support import expected_conditions as EC\n",
    "from selenium.webdriver.common.by import By"
   ],
   "metadata": {
    "collapsed": false,
    "ExecuteTime": {
     "end_time": "2023-08-07T12:38:00.634771Z",
     "start_time": "2023-08-07T12:38:00.629169Z"
    }
   },
   "id": "initial_id"
  },
  {
   "cell_type": "markdown",
   "source": [
    "# Browser Settings"
   ],
   "metadata": {
    "collapsed": false
   },
   "id": "8b38ae7508bf95bc"
  },
  {
   "cell_type": "code",
   "execution_count": 12,
   "outputs": [],
   "source": [
    "# parser = argparse.ArgumentParser()\n",
    "# args = parser.parse_args()\n",
    "driver_path = './chromedriver-mac-x64/chromedriver'\n",
    "\n",
    "options = webdriver.ChromeOptions()\n",
    "options.add_argument('disable-gpu')\n",
    "options.add_argument('--log-level=3') \n",
    "# options.add_argument('headless')\n",
    "driver = webdriver.Chrome(service=Service(executable_path=driver_path), options=options)\n",
    "# driver.set_window_size(1800, 1400)"
   ],
   "metadata": {
    "collapsed": false,
    "ExecuteTime": {
     "end_time": "2023-08-07T12:31:50.688442Z",
     "start_time": "2023-08-07T12:31:48.710478Z"
    }
   },
   "id": "e2549fbdbb087966"
  },
  {
   "cell_type": "markdown",
   "source": [
    "# Visiting and Crawling"
   ],
   "metadata": {
    "collapsed": false
   },
   "id": "37535e48f0542ab7"
  },
  {
   "cell_type": "markdown",
   "source": [
    "## Get Artists"
   ],
   "metadata": {
    "collapsed": false
   },
   "id": "f7792cac7046a51b"
  },
  {
   "cell_type": "code",
   "execution_count": 20,
   "outputs": [],
   "source": [
    "def get_artist_page():\n",
    "    WebDriverWait(driver, 10).until(lambda driver: len(driver.find_elements('xpath', '//*[@id=\"main\"]/div/div[3]/*'))<2)\n",
    "    # WebDriverWait(driver, 10).until(EC.presence_of_element_located((By.CSS_SELECTOR, '[class*=ArtistsByLetter]')))\n",
    "    artists_elements = driver.find_element('css selector', '[class*=ArtistsByLetter]').find_elements('xpath', '*')\n",
    "    artists_data = pd.DataFrame(columns=['Guid','Name','Link']).set_index('Guid', inplace=True)\n",
    "    for i, artist in enumerate(artists_elements):\n",
    "        artist_guid =  uuid.uuid4().hex\n",
    "        # waiter = WebDriverWait(driver, 15)\n",
    "        # waiter.until(EC.visibility_of_element_located((By.XPATH, '//*[@id=\"main\"]/div/div[3]/div/div/div[{}]/a'.format(str(i+1)))))\n",
    "        # print(i,artist.text)\n",
    "        link = artist.find_element('xpath', '*').get_attribute('href')\n",
    "        name = artist.text\n",
    "        artist_data = {\n",
    "            'Guid':artist_guid,\n",
    "            'Name':name,\n",
    "            'Link':link\n",
    "        }\n",
    "        new_df = pd.DataFrame(artist_data, index=[0])\n",
    "        new_df.set_index('Guid', inplace=True)\n",
    "        artists_data = pd.concat([artists_data, new_df])\n",
    "    letter = driver.find_element('css selector', '[aria-label=\"Breadcrumb\"]').find_element('xpath', './preceding::*[1]').text.split(' ')[-1]\n",
    "    page = driver.current_url.split('=')[-1] if '=' in driver.current_url else '1'\n",
    "    artist_path = './artists'\n",
    "    if not os.path.exists(artist_path):\n",
    "        os.makedirs(artist_path)\n",
    "    artists_data.to_csv('artists/Artist-{}-{}.csv'.format(letter, page))\n",
    "    print('Artists list obtained with initial {} on page-{}'.format(letter, page))\n",
    "    return letter, int(page)\n",
    "    \n",
    "def click_next_page():\n",
    "    pagination = driver.find_element('css selector', '[aria-label=\"Pagination\"]')\n",
    "    next_btn = pagination.find_elements('xpath', '*')[-1]\n",
    "    if next_btn.get_attribute('href'):\n",
    "        next_btn.click()\n",
    "        time.sleep(1)\n",
    "        return True\n",
    "    else: \n",
    "        print('No more pages in current letter.')\n",
    "        return False"
   ],
   "metadata": {
    "collapsed": false,
    "ExecuteTime": {
     "end_time": "2023-08-07T12:38:04.825246Z",
     "start_time": "2023-08-07T12:38:04.822209Z"
    }
   },
   "id": "72baa6633bf2952c"
  },
  {
   "cell_type": "code",
   "execution_count": 21,
   "outputs": [
    {
     "name": "stdout",
     "output_type": "stream",
     "text": [
      "Artists list obtained with initial A on page-1\n",
      "Artists list obtained with initial A on page-2\n",
      "Artists list obtained with initial A on page-3\n"
     ]
    }
   ],
   "source": [
    "starting_letter = 'a'\n",
    "starting_page = 1\n",
    "stopping_page = 3\n",
    "url = 'https://www.artsy.net/artists/artists-starting-with-{}?page={}'.format(starting_letter, starting_page)\n",
    "driver.get(url)\n",
    "while True:    \n",
    "    letter, page = get_artist_page()\n",
    "    if not click_next_page() or page>= stopping_page:\n",
    "        break"
   ],
   "metadata": {
    "collapsed": false,
    "ExecuteTime": {
     "end_time": "2023-08-07T12:38:16.342614Z",
     "start_time": "2023-08-07T12:38:05.978438Z"
    }
   },
   "id": "56b0a8f3f72721a1"
  },
  {
   "cell_type": "markdown",
   "source": [
    "## Get Arts & Author's info\n"
   ],
   "metadata": {
    "collapsed": false
   },
   "id": "26f408d375c72012"
  },
  {
   "cell_type": "code",
   "execution_count": 22,
   "outputs": [],
   "source": [
    "def get_artist_info(artist_link):\n",
    "    driver.get(artist_link)\n",
    "    artist_block = driver.find_element('xpath', '//*[@id=\"main\"]/div/div[2]/div/div[1]/div/div[2]')\n",
    "    # //*[@id=\"main\"]/div/div[2]/div/div[1]/div/div[2]\n",
    "    if len(artist_block.find_elements('xpath', '*'))>1:\n",
    "        artist_name, artist_info = artist_block.text.split('\\n')\n",
    "    else: \n",
    "        artist_name = artist_block.text\n",
    "        artist_info = None\n",
    "        \n",
    "    if len(driver.find_elements('css selector', '[class*=\"Message__Container\"]')) > 0:\n",
    "        art_num = 0\n",
    "    else: \n",
    "        # todo: find fresnel-at-xs & fresnel-greaterThan-xs \n",
    "        xs_block = driver.find_elements('class name', 'fresnel-at-xs')\n",
    "        art_num = len(driver.find_elements('css selector', '[data-test=\"artworkGridItem\"]'))\n",
    "    # art_num = len(driver.find_element('xpath', '//*[@id=\"main\"]/div/div[7]/div[3]/div[1]').find_elements('xpath', '*'))\n",
    "    return artist_name, artist_info, art_num\n",
    "\n",
    "def get_art_data(art_link, artist):\n",
    "    driver.get(art_link)\n",
    "    art_guid =  uuid.uuid4().hex\n",
    "    artwork_sidebar = driver.find_element('css selector', '[data-test=\"artworkSidebar\"]')\n",
    "    art_author = artist\n",
    "    art_name = artwork_sidebar.find_element('xpath', './h1/i').text\n",
    "    art_loc = artwork_sidebar.find_element('xpath', './h1').text.split(', ')[-1]\n",
    "    art_sale = artwork_sidebar.find_elements('css selector', '[data-test=\"SaleMessage\"]')\n",
    "    art_price = art_sale[0].text if len(art_sale)>0 else ''\n",
    "    # art_matierial = artwork_sidebar.find_element('xpath', './div[3]/div[1]').text\n",
    "    # art_size = artwork_sidebar.find_element('xpath', './div[3]/div[2]').text\n",
    "\n",
    "    art_detail = driver.find_elements('css selector', '[class*=\"ReadMore__Container\"]')\n",
    "    if len(art_detail)>0: \n",
    "        art_detail[0].click()\n",
    "        art_des = art_detail[0].text\n",
    "    else: art_des = ''\n",
    "\n",
    "    art_data = {\n",
    "            'Id':art_guid,\n",
    "            'Title':art_name,\n",
    "            'Author': artist,\n",
    "            'Locale':art_loc,\n",
    "            'Link':art_link,\n",
    "            'Price':art_price,\n",
    "            'Description':art_des,\n",
    "            # 'Material':art_matierial,\n",
    "            # 'Size':art_size\n",
    "        }\n",
    "    return art_data"
   ],
   "metadata": {
    "collapsed": false,
    "ExecuteTime": {
     "end_time": "2023-08-07T12:39:48.854013Z",
     "start_time": "2023-08-07T12:39:48.829840Z"
    }
   },
   "id": "9a4279cb9f5af3f0"
  },
  {
   "cell_type": "code",
   "execution_count": 23,
   "outputs": [],
   "source": [
    "with open('CMOA_artist.csv', 'w', newline='') as f:\n",
    "    writer = csv.DictWriter(f, fieldnames=['Id','Full Name','Webpage','Number of Arts','Description'])\n",
    "    writer.writeheader()\n",
    "    f.close()\n",
    "with open('CMOA_asset.csv', 'w', newline='') as f:\n",
    "    writer = csv.DictWriter(f, fieldnames=['Id','Title','Author','Locale','Link','Price','Description'])\n",
    "    writer.writeheader()\n",
    "    f.close()\n",
    "with open('CMOA_relationship.csv', 'w', newline='') as f:\n",
    "    writer = csv.DictWriter(f, fieldnames=['Id','AuthorId','Art_id'])\n",
    "    writer.writeheader()\n",
    "    f.close()"
   ],
   "metadata": {
    "collapsed": false,
    "ExecuteTime": {
     "end_time": "2023-08-07T12:41:12.673016Z",
     "start_time": "2023-08-07T12:41:12.647975Z"
    }
   },
   "id": "29b2eb11d5ee9b50"
  },
  {
   "cell_type": "code",
   "execution_count": 24,
   "outputs": [
    {
     "ename": "KeyboardInterrupt",
     "evalue": "",
     "output_type": "error",
     "traceback": [
      "\u001B[0;31m---------------------------------------------------------------------------\u001B[0m",
      "\u001B[0;31mKeyboardInterrupt\u001B[0m                         Traceback (most recent call last)",
      "Cell \u001B[0;32mIn[24], line 26\u001B[0m\n\u001B[1;32m     23\u001B[0m \u001B[38;5;28;01massert\u001B[39;00m \u001B[38;5;28mlen\u001B[39m(art_links) \u001B[38;5;241m==\u001B[39m art_num\n\u001B[1;32m     25\u001B[0m \u001B[38;5;28;01mfor\u001B[39;00m art_link \u001B[38;5;129;01min\u001B[39;00m art_links:\n\u001B[0;32m---> 26\u001B[0m     art_data \u001B[38;5;241m=\u001B[39m \u001B[43mget_art_data\u001B[49m\u001B[43m(\u001B[49m\u001B[43mart_link\u001B[49m\u001B[43m,\u001B[49m\u001B[43m \u001B[49m\u001B[43martist_name\u001B[49m\u001B[43m)\u001B[49m\n\u001B[1;32m     27\u001B[0m     \u001B[38;5;28;01mwith\u001B[39;00m \u001B[38;5;28mopen\u001B[39m(\u001B[38;5;124m'\u001B[39m\u001B[38;5;124mCMOA_asset.csv\u001B[39m\u001B[38;5;124m'\u001B[39m, \u001B[38;5;124m'\u001B[39m\u001B[38;5;124ma\u001B[39m\u001B[38;5;124m'\u001B[39m, newline\u001B[38;5;241m=\u001B[39m\u001B[38;5;124m'\u001B[39m\u001B[38;5;124m'\u001B[39m) \u001B[38;5;28;01mas\u001B[39;00m out_asset:\n\u001B[1;32m     28\u001B[0m         fieldnames \u001B[38;5;241m=\u001B[39m art_data\u001B[38;5;241m.\u001B[39mkeys()\n",
      "Cell \u001B[0;32mIn[22], line 21\u001B[0m, in \u001B[0;36mget_art_data\u001B[0;34m(art_link, artist)\u001B[0m\n\u001B[1;32m     20\u001B[0m \u001B[38;5;28;01mdef\u001B[39;00m \u001B[38;5;21mget_art_data\u001B[39m(art_link, artist):\n\u001B[0;32m---> 21\u001B[0m     \u001B[43mdriver\u001B[49m\u001B[38;5;241;43m.\u001B[39;49m\u001B[43mget\u001B[49m\u001B[43m(\u001B[49m\u001B[43mart_link\u001B[49m\u001B[43m)\u001B[49m\n\u001B[1;32m     22\u001B[0m     art_guid \u001B[38;5;241m=\u001B[39m  uuid\u001B[38;5;241m.\u001B[39muuid4()\u001B[38;5;241m.\u001B[39mhex\n\u001B[1;32m     23\u001B[0m     artwork_sidebar \u001B[38;5;241m=\u001B[39m driver\u001B[38;5;241m.\u001B[39mfind_element(\u001B[38;5;124m'\u001B[39m\u001B[38;5;124mcss selector\u001B[39m\u001B[38;5;124m'\u001B[39m, \u001B[38;5;124m'\u001B[39m\u001B[38;5;124m[data-test=\u001B[39m\u001B[38;5;124m\"\u001B[39m\u001B[38;5;124martworkSidebar\u001B[39m\u001B[38;5;124m\"\u001B[39m\u001B[38;5;124m]\u001B[39m\u001B[38;5;124m'\u001B[39m)\n",
      "File \u001B[0;32m~/Documents/work/seminal-intern/artisy/venv/lib/python3.8/site-packages/selenium/webdriver/remote/webdriver.py:354\u001B[0m, in \u001B[0;36mWebDriver.get\u001B[0;34m(self, url)\u001B[0m\n\u001B[1;32m    352\u001B[0m \u001B[38;5;28;01mdef\u001B[39;00m \u001B[38;5;21mget\u001B[39m(\u001B[38;5;28mself\u001B[39m, url: \u001B[38;5;28mstr\u001B[39m) \u001B[38;5;241m-\u001B[39m\u001B[38;5;241m>\u001B[39m \u001B[38;5;28;01mNone\u001B[39;00m:\n\u001B[1;32m    353\u001B[0m \u001B[38;5;250m    \u001B[39m\u001B[38;5;124;03m\"\"\"Loads a web page in the current browser session.\"\"\"\u001B[39;00m\n\u001B[0;32m--> 354\u001B[0m     \u001B[38;5;28;43mself\u001B[39;49m\u001B[38;5;241;43m.\u001B[39;49m\u001B[43mexecute\u001B[49m\u001B[43m(\u001B[49m\u001B[43mCommand\u001B[49m\u001B[38;5;241;43m.\u001B[39;49m\u001B[43mGET\u001B[49m\u001B[43m,\u001B[49m\u001B[43m \u001B[49m\u001B[43m{\u001B[49m\u001B[38;5;124;43m\"\u001B[39;49m\u001B[38;5;124;43murl\u001B[39;49m\u001B[38;5;124;43m\"\u001B[39;49m\u001B[43m:\u001B[49m\u001B[43m \u001B[49m\u001B[43murl\u001B[49m\u001B[43m}\u001B[49m\u001B[43m)\u001B[49m\n",
      "File \u001B[0;32m~/Documents/work/seminal-intern/artisy/venv/lib/python3.8/site-packages/selenium/webdriver/remote/webdriver.py:343\u001B[0m, in \u001B[0;36mWebDriver.execute\u001B[0;34m(self, driver_command, params)\u001B[0m\n\u001B[1;32m    340\u001B[0m     \u001B[38;5;28;01melif\u001B[39;00m \u001B[38;5;124m\"\u001B[39m\u001B[38;5;124msessionId\u001B[39m\u001B[38;5;124m\"\u001B[39m \u001B[38;5;129;01mnot\u001B[39;00m \u001B[38;5;129;01min\u001B[39;00m params:\n\u001B[1;32m    341\u001B[0m         params[\u001B[38;5;124m\"\u001B[39m\u001B[38;5;124msessionId\u001B[39m\u001B[38;5;124m\"\u001B[39m] \u001B[38;5;241m=\u001B[39m \u001B[38;5;28mself\u001B[39m\u001B[38;5;241m.\u001B[39msession_id\n\u001B[0;32m--> 343\u001B[0m response \u001B[38;5;241m=\u001B[39m \u001B[38;5;28;43mself\u001B[39;49m\u001B[38;5;241;43m.\u001B[39;49m\u001B[43mcommand_executor\u001B[49m\u001B[38;5;241;43m.\u001B[39;49m\u001B[43mexecute\u001B[49m\u001B[43m(\u001B[49m\u001B[43mdriver_command\u001B[49m\u001B[43m,\u001B[49m\u001B[43m \u001B[49m\u001B[43mparams\u001B[49m\u001B[43m)\u001B[49m\n\u001B[1;32m    344\u001B[0m \u001B[38;5;28;01mif\u001B[39;00m response:\n\u001B[1;32m    345\u001B[0m     \u001B[38;5;28mself\u001B[39m\u001B[38;5;241m.\u001B[39merror_handler\u001B[38;5;241m.\u001B[39mcheck_response(response)\n",
      "File \u001B[0;32m~/Documents/work/seminal-intern/artisy/venv/lib/python3.8/site-packages/selenium/webdriver/remote/remote_connection.py:291\u001B[0m, in \u001B[0;36mRemoteConnection.execute\u001B[0;34m(self, command, params)\u001B[0m\n\u001B[1;32m    289\u001B[0m data \u001B[38;5;241m=\u001B[39m utils\u001B[38;5;241m.\u001B[39mdump_json(params)\n\u001B[1;32m    290\u001B[0m url \u001B[38;5;241m=\u001B[39m \u001B[38;5;124mf\u001B[39m\u001B[38;5;124m\"\u001B[39m\u001B[38;5;132;01m{\u001B[39;00m\u001B[38;5;28mself\u001B[39m\u001B[38;5;241m.\u001B[39m_url\u001B[38;5;132;01m}\u001B[39;00m\u001B[38;5;132;01m{\u001B[39;00mpath\u001B[38;5;132;01m}\u001B[39;00m\u001B[38;5;124m\"\u001B[39m\n\u001B[0;32m--> 291\u001B[0m \u001B[38;5;28;01mreturn\u001B[39;00m \u001B[38;5;28;43mself\u001B[39;49m\u001B[38;5;241;43m.\u001B[39;49m\u001B[43m_request\u001B[49m\u001B[43m(\u001B[49m\u001B[43mcommand_info\u001B[49m\u001B[43m[\u001B[49m\u001B[38;5;241;43m0\u001B[39;49m\u001B[43m]\u001B[49m\u001B[43m,\u001B[49m\u001B[43m \u001B[49m\u001B[43murl\u001B[49m\u001B[43m,\u001B[49m\u001B[43m \u001B[49m\u001B[43mbody\u001B[49m\u001B[38;5;241;43m=\u001B[39;49m\u001B[43mdata\u001B[49m\u001B[43m)\u001B[49m\n",
      "File \u001B[0;32m~/Documents/work/seminal-intern/artisy/venv/lib/python3.8/site-packages/selenium/webdriver/remote/remote_connection.py:312\u001B[0m, in \u001B[0;36mRemoteConnection._request\u001B[0;34m(self, method, url, body)\u001B[0m\n\u001B[1;32m    309\u001B[0m     body \u001B[38;5;241m=\u001B[39m \u001B[38;5;28;01mNone\u001B[39;00m\n\u001B[1;32m    311\u001B[0m \u001B[38;5;28;01mif\u001B[39;00m \u001B[38;5;28mself\u001B[39m\u001B[38;5;241m.\u001B[39mkeep_alive:\n\u001B[0;32m--> 312\u001B[0m     response \u001B[38;5;241m=\u001B[39m \u001B[38;5;28;43mself\u001B[39;49m\u001B[38;5;241;43m.\u001B[39;49m\u001B[43m_conn\u001B[49m\u001B[38;5;241;43m.\u001B[39;49m\u001B[43mrequest\u001B[49m\u001B[43m(\u001B[49m\u001B[43mmethod\u001B[49m\u001B[43m,\u001B[49m\u001B[43m \u001B[49m\u001B[43murl\u001B[49m\u001B[43m,\u001B[49m\u001B[43m \u001B[49m\u001B[43mbody\u001B[49m\u001B[38;5;241;43m=\u001B[39;49m\u001B[43mbody\u001B[49m\u001B[43m,\u001B[49m\u001B[43m \u001B[49m\u001B[43mheaders\u001B[49m\u001B[38;5;241;43m=\u001B[39;49m\u001B[43mheaders\u001B[49m\u001B[43m)\u001B[49m\n\u001B[1;32m    313\u001B[0m     statuscode \u001B[38;5;241m=\u001B[39m response\u001B[38;5;241m.\u001B[39mstatus\n\u001B[1;32m    314\u001B[0m \u001B[38;5;28;01melse\u001B[39;00m:\n",
      "File \u001B[0;32m~/Documents/work/seminal-intern/artisy/venv/lib/python3.8/site-packages/urllib3/_request_methods.py:118\u001B[0m, in \u001B[0;36mRequestMethods.request\u001B[0;34m(self, method, url, body, fields, headers, json, **urlopen_kw)\u001B[0m\n\u001B[1;32m    110\u001B[0m     \u001B[38;5;28;01mreturn\u001B[39;00m \u001B[38;5;28mself\u001B[39m\u001B[38;5;241m.\u001B[39mrequest_encode_url(\n\u001B[1;32m    111\u001B[0m         method,\n\u001B[1;32m    112\u001B[0m         url,\n\u001B[0;32m   (...)\u001B[0m\n\u001B[1;32m    115\u001B[0m         \u001B[38;5;241m*\u001B[39m\u001B[38;5;241m*\u001B[39murlopen_kw,\n\u001B[1;32m    116\u001B[0m     )\n\u001B[1;32m    117\u001B[0m \u001B[38;5;28;01melse\u001B[39;00m:\n\u001B[0;32m--> 118\u001B[0m     \u001B[38;5;28;01mreturn\u001B[39;00m \u001B[38;5;28;43mself\u001B[39;49m\u001B[38;5;241;43m.\u001B[39;49m\u001B[43mrequest_encode_body\u001B[49m\u001B[43m(\u001B[49m\n\u001B[1;32m    119\u001B[0m \u001B[43m        \u001B[49m\u001B[43mmethod\u001B[49m\u001B[43m,\u001B[49m\u001B[43m \u001B[49m\u001B[43murl\u001B[49m\u001B[43m,\u001B[49m\u001B[43m \u001B[49m\u001B[43mfields\u001B[49m\u001B[38;5;241;43m=\u001B[39;49m\u001B[43mfields\u001B[49m\u001B[43m,\u001B[49m\u001B[43m \u001B[49m\u001B[43mheaders\u001B[49m\u001B[38;5;241;43m=\u001B[39;49m\u001B[43mheaders\u001B[49m\u001B[43m,\u001B[49m\u001B[43m \u001B[49m\u001B[38;5;241;43m*\u001B[39;49m\u001B[38;5;241;43m*\u001B[39;49m\u001B[43murlopen_kw\u001B[49m\n\u001B[1;32m    120\u001B[0m \u001B[43m    \u001B[49m\u001B[43m)\u001B[49m\n",
      "File \u001B[0;32m~/Documents/work/seminal-intern/artisy/venv/lib/python3.8/site-packages/urllib3/_request_methods.py:217\u001B[0m, in \u001B[0;36mRequestMethods.request_encode_body\u001B[0;34m(self, method, url, fields, headers, encode_multipart, multipart_boundary, **urlopen_kw)\u001B[0m\n\u001B[1;32m    213\u001B[0m     extra_kw[\u001B[38;5;124m\"\u001B[39m\u001B[38;5;124mheaders\u001B[39m\u001B[38;5;124m\"\u001B[39m]\u001B[38;5;241m.\u001B[39msetdefault(\u001B[38;5;124m\"\u001B[39m\u001B[38;5;124mContent-Type\u001B[39m\u001B[38;5;124m\"\u001B[39m, content_type)\n\u001B[1;32m    215\u001B[0m extra_kw\u001B[38;5;241m.\u001B[39mupdate(urlopen_kw)\n\u001B[0;32m--> 217\u001B[0m \u001B[38;5;28;01mreturn\u001B[39;00m \u001B[38;5;28;43mself\u001B[39;49m\u001B[38;5;241;43m.\u001B[39;49m\u001B[43murlopen\u001B[49m\u001B[43m(\u001B[49m\u001B[43mmethod\u001B[49m\u001B[43m,\u001B[49m\u001B[43m \u001B[49m\u001B[43murl\u001B[49m\u001B[43m,\u001B[49m\u001B[43m \u001B[49m\u001B[38;5;241;43m*\u001B[39;49m\u001B[38;5;241;43m*\u001B[39;49m\u001B[43mextra_kw\u001B[49m\u001B[43m)\u001B[49m\n",
      "File \u001B[0;32m~/Documents/work/seminal-intern/artisy/venv/lib/python3.8/site-packages/urllib3/poolmanager.py:443\u001B[0m, in \u001B[0;36mPoolManager.urlopen\u001B[0;34m(self, method, url, redirect, **kw)\u001B[0m\n\u001B[1;32m    441\u001B[0m     response \u001B[38;5;241m=\u001B[39m conn\u001B[38;5;241m.\u001B[39murlopen(method, url, \u001B[38;5;241m*\u001B[39m\u001B[38;5;241m*\u001B[39mkw)\n\u001B[1;32m    442\u001B[0m \u001B[38;5;28;01melse\u001B[39;00m:\n\u001B[0;32m--> 443\u001B[0m     response \u001B[38;5;241m=\u001B[39m \u001B[43mconn\u001B[49m\u001B[38;5;241;43m.\u001B[39;49m\u001B[43murlopen\u001B[49m\u001B[43m(\u001B[49m\u001B[43mmethod\u001B[49m\u001B[43m,\u001B[49m\u001B[43m \u001B[49m\u001B[43mu\u001B[49m\u001B[38;5;241;43m.\u001B[39;49m\u001B[43mrequest_uri\u001B[49m\u001B[43m,\u001B[49m\u001B[43m \u001B[49m\u001B[38;5;241;43m*\u001B[39;49m\u001B[38;5;241;43m*\u001B[39;49m\u001B[43mkw\u001B[49m\u001B[43m)\u001B[49m\n\u001B[1;32m    445\u001B[0m redirect_location \u001B[38;5;241m=\u001B[39m redirect \u001B[38;5;129;01mand\u001B[39;00m response\u001B[38;5;241m.\u001B[39mget_redirect_location()\n\u001B[1;32m    446\u001B[0m \u001B[38;5;28;01mif\u001B[39;00m \u001B[38;5;129;01mnot\u001B[39;00m redirect_location:\n",
      "File \u001B[0;32m~/Documents/work/seminal-intern/artisy/venv/lib/python3.8/site-packages/urllib3/connectionpool.py:790\u001B[0m, in \u001B[0;36mHTTPConnectionPool.urlopen\u001B[0;34m(self, method, url, body, headers, retries, redirect, assert_same_host, timeout, pool_timeout, release_conn, chunked, body_pos, preload_content, decode_content, **response_kw)\u001B[0m\n\u001B[1;32m    787\u001B[0m response_conn \u001B[38;5;241m=\u001B[39m conn \u001B[38;5;28;01mif\u001B[39;00m \u001B[38;5;129;01mnot\u001B[39;00m release_conn \u001B[38;5;28;01melse\u001B[39;00m \u001B[38;5;28;01mNone\u001B[39;00m\n\u001B[1;32m    789\u001B[0m \u001B[38;5;66;03m# Make the request on the HTTPConnection object\u001B[39;00m\n\u001B[0;32m--> 790\u001B[0m response \u001B[38;5;241m=\u001B[39m \u001B[38;5;28;43mself\u001B[39;49m\u001B[38;5;241;43m.\u001B[39;49m\u001B[43m_make_request\u001B[49m\u001B[43m(\u001B[49m\n\u001B[1;32m    791\u001B[0m \u001B[43m    \u001B[49m\u001B[43mconn\u001B[49m\u001B[43m,\u001B[49m\n\u001B[1;32m    792\u001B[0m \u001B[43m    \u001B[49m\u001B[43mmethod\u001B[49m\u001B[43m,\u001B[49m\n\u001B[1;32m    793\u001B[0m \u001B[43m    \u001B[49m\u001B[43murl\u001B[49m\u001B[43m,\u001B[49m\n\u001B[1;32m    794\u001B[0m \u001B[43m    \u001B[49m\u001B[43mtimeout\u001B[49m\u001B[38;5;241;43m=\u001B[39;49m\u001B[43mtimeout_obj\u001B[49m\u001B[43m,\u001B[49m\n\u001B[1;32m    795\u001B[0m \u001B[43m    \u001B[49m\u001B[43mbody\u001B[49m\u001B[38;5;241;43m=\u001B[39;49m\u001B[43mbody\u001B[49m\u001B[43m,\u001B[49m\n\u001B[1;32m    796\u001B[0m \u001B[43m    \u001B[49m\u001B[43mheaders\u001B[49m\u001B[38;5;241;43m=\u001B[39;49m\u001B[43mheaders\u001B[49m\u001B[43m,\u001B[49m\n\u001B[1;32m    797\u001B[0m \u001B[43m    \u001B[49m\u001B[43mchunked\u001B[49m\u001B[38;5;241;43m=\u001B[39;49m\u001B[43mchunked\u001B[49m\u001B[43m,\u001B[49m\n\u001B[1;32m    798\u001B[0m \u001B[43m    \u001B[49m\u001B[43mretries\u001B[49m\u001B[38;5;241;43m=\u001B[39;49m\u001B[43mretries\u001B[49m\u001B[43m,\u001B[49m\n\u001B[1;32m    799\u001B[0m \u001B[43m    \u001B[49m\u001B[43mresponse_conn\u001B[49m\u001B[38;5;241;43m=\u001B[39;49m\u001B[43mresponse_conn\u001B[49m\u001B[43m,\u001B[49m\n\u001B[1;32m    800\u001B[0m \u001B[43m    \u001B[49m\u001B[43mpreload_content\u001B[49m\u001B[38;5;241;43m=\u001B[39;49m\u001B[43mpreload_content\u001B[49m\u001B[43m,\u001B[49m\n\u001B[1;32m    801\u001B[0m \u001B[43m    \u001B[49m\u001B[43mdecode_content\u001B[49m\u001B[38;5;241;43m=\u001B[39;49m\u001B[43mdecode_content\u001B[49m\u001B[43m,\u001B[49m\n\u001B[1;32m    802\u001B[0m \u001B[43m    \u001B[49m\u001B[38;5;241;43m*\u001B[39;49m\u001B[38;5;241;43m*\u001B[39;49m\u001B[43mresponse_kw\u001B[49m\u001B[43m,\u001B[49m\n\u001B[1;32m    803\u001B[0m \u001B[43m\u001B[49m\u001B[43m)\u001B[49m\n\u001B[1;32m    805\u001B[0m \u001B[38;5;66;03m# Everything went great!\u001B[39;00m\n\u001B[1;32m    806\u001B[0m clean_exit \u001B[38;5;241m=\u001B[39m \u001B[38;5;28;01mTrue\u001B[39;00m\n",
      "File \u001B[0;32m~/Documents/work/seminal-intern/artisy/venv/lib/python3.8/site-packages/urllib3/connectionpool.py:536\u001B[0m, in \u001B[0;36mHTTPConnectionPool._make_request\u001B[0;34m(self, conn, method, url, body, headers, retries, timeout, chunked, response_conn, preload_content, decode_content, enforce_content_length)\u001B[0m\n\u001B[1;32m    534\u001B[0m \u001B[38;5;66;03m# Receive the response from the server\u001B[39;00m\n\u001B[1;32m    535\u001B[0m \u001B[38;5;28;01mtry\u001B[39;00m:\n\u001B[0;32m--> 536\u001B[0m     response \u001B[38;5;241m=\u001B[39m \u001B[43mconn\u001B[49m\u001B[38;5;241;43m.\u001B[39;49m\u001B[43mgetresponse\u001B[49m\u001B[43m(\u001B[49m\u001B[43m)\u001B[49m\n\u001B[1;32m    537\u001B[0m \u001B[38;5;28;01mexcept\u001B[39;00m (BaseSSLError, \u001B[38;5;167;01mOSError\u001B[39;00m) \u001B[38;5;28;01mas\u001B[39;00m e:\n\u001B[1;32m    538\u001B[0m     \u001B[38;5;28mself\u001B[39m\u001B[38;5;241m.\u001B[39m_raise_timeout(err\u001B[38;5;241m=\u001B[39me, url\u001B[38;5;241m=\u001B[39murl, timeout_value\u001B[38;5;241m=\u001B[39mread_timeout)\n",
      "File \u001B[0;32m~/Documents/work/seminal-intern/artisy/venv/lib/python3.8/site-packages/urllib3/connection.py:461\u001B[0m, in \u001B[0;36mHTTPConnection.getresponse\u001B[0;34m(self)\u001B[0m\n\u001B[1;32m    458\u001B[0m \u001B[38;5;28;01mfrom\u001B[39;00m \u001B[38;5;21;01m.\u001B[39;00m\u001B[38;5;21;01mresponse\u001B[39;00m \u001B[38;5;28;01mimport\u001B[39;00m HTTPResponse\n\u001B[1;32m    460\u001B[0m \u001B[38;5;66;03m# Get the response from http.client.HTTPConnection\u001B[39;00m\n\u001B[0;32m--> 461\u001B[0m httplib_response \u001B[38;5;241m=\u001B[39m \u001B[38;5;28;43msuper\u001B[39;49m\u001B[43m(\u001B[49m\u001B[43m)\u001B[49m\u001B[38;5;241;43m.\u001B[39;49m\u001B[43mgetresponse\u001B[49m\u001B[43m(\u001B[49m\u001B[43m)\u001B[49m\n\u001B[1;32m    463\u001B[0m \u001B[38;5;28;01mtry\u001B[39;00m:\n\u001B[1;32m    464\u001B[0m     assert_header_parsing(httplib_response\u001B[38;5;241m.\u001B[39mmsg)\n",
      "File \u001B[0;32m/usr/local/opt/python@3.8/Frameworks/Python.framework/Versions/3.8/lib/python3.8/http/client.py:1348\u001B[0m, in \u001B[0;36mHTTPConnection.getresponse\u001B[0;34m(self)\u001B[0m\n\u001B[1;32m   1346\u001B[0m \u001B[38;5;28;01mtry\u001B[39;00m:\n\u001B[1;32m   1347\u001B[0m     \u001B[38;5;28;01mtry\u001B[39;00m:\n\u001B[0;32m-> 1348\u001B[0m         \u001B[43mresponse\u001B[49m\u001B[38;5;241;43m.\u001B[39;49m\u001B[43mbegin\u001B[49m\u001B[43m(\u001B[49m\u001B[43m)\u001B[49m\n\u001B[1;32m   1349\u001B[0m     \u001B[38;5;28;01mexcept\u001B[39;00m \u001B[38;5;167;01mConnectionError\u001B[39;00m:\n\u001B[1;32m   1350\u001B[0m         \u001B[38;5;28mself\u001B[39m\u001B[38;5;241m.\u001B[39mclose()\n",
      "File \u001B[0;32m/usr/local/opt/python@3.8/Frameworks/Python.framework/Versions/3.8/lib/python3.8/http/client.py:316\u001B[0m, in \u001B[0;36mHTTPResponse.begin\u001B[0;34m(self)\u001B[0m\n\u001B[1;32m    314\u001B[0m \u001B[38;5;66;03m# read until we get a non-100 response\u001B[39;00m\n\u001B[1;32m    315\u001B[0m \u001B[38;5;28;01mwhile\u001B[39;00m \u001B[38;5;28;01mTrue\u001B[39;00m:\n\u001B[0;32m--> 316\u001B[0m     version, status, reason \u001B[38;5;241m=\u001B[39m \u001B[38;5;28;43mself\u001B[39;49m\u001B[38;5;241;43m.\u001B[39;49m\u001B[43m_read_status\u001B[49m\u001B[43m(\u001B[49m\u001B[43m)\u001B[49m\n\u001B[1;32m    317\u001B[0m     \u001B[38;5;28;01mif\u001B[39;00m status \u001B[38;5;241m!=\u001B[39m CONTINUE:\n\u001B[1;32m    318\u001B[0m         \u001B[38;5;28;01mbreak\u001B[39;00m\n",
      "File \u001B[0;32m/usr/local/opt/python@3.8/Frameworks/Python.framework/Versions/3.8/lib/python3.8/http/client.py:277\u001B[0m, in \u001B[0;36mHTTPResponse._read_status\u001B[0;34m(self)\u001B[0m\n\u001B[1;32m    276\u001B[0m \u001B[38;5;28;01mdef\u001B[39;00m \u001B[38;5;21m_read_status\u001B[39m(\u001B[38;5;28mself\u001B[39m):\n\u001B[0;32m--> 277\u001B[0m     line \u001B[38;5;241m=\u001B[39m \u001B[38;5;28mstr\u001B[39m(\u001B[38;5;28;43mself\u001B[39;49m\u001B[38;5;241;43m.\u001B[39;49m\u001B[43mfp\u001B[49m\u001B[38;5;241;43m.\u001B[39;49m\u001B[43mreadline\u001B[49m\u001B[43m(\u001B[49m\u001B[43m_MAXLINE\u001B[49m\u001B[43m \u001B[49m\u001B[38;5;241;43m+\u001B[39;49m\u001B[43m \u001B[49m\u001B[38;5;241;43m1\u001B[39;49m\u001B[43m)\u001B[49m, \u001B[38;5;124m\"\u001B[39m\u001B[38;5;124miso-8859-1\u001B[39m\u001B[38;5;124m\"\u001B[39m)\n\u001B[1;32m    278\u001B[0m     \u001B[38;5;28;01mif\u001B[39;00m \u001B[38;5;28mlen\u001B[39m(line) \u001B[38;5;241m>\u001B[39m _MAXLINE:\n\u001B[1;32m    279\u001B[0m         \u001B[38;5;28;01mraise\u001B[39;00m LineTooLong(\u001B[38;5;124m\"\u001B[39m\u001B[38;5;124mstatus line\u001B[39m\u001B[38;5;124m\"\u001B[39m)\n",
      "File \u001B[0;32m/usr/local/opt/python@3.8/Frameworks/Python.framework/Versions/3.8/lib/python3.8/socket.py:669\u001B[0m, in \u001B[0;36mSocketIO.readinto\u001B[0;34m(self, b)\u001B[0m\n\u001B[1;32m    667\u001B[0m \u001B[38;5;28;01mwhile\u001B[39;00m \u001B[38;5;28;01mTrue\u001B[39;00m:\n\u001B[1;32m    668\u001B[0m     \u001B[38;5;28;01mtry\u001B[39;00m:\n\u001B[0;32m--> 669\u001B[0m         \u001B[38;5;28;01mreturn\u001B[39;00m \u001B[38;5;28;43mself\u001B[39;49m\u001B[38;5;241;43m.\u001B[39;49m\u001B[43m_sock\u001B[49m\u001B[38;5;241;43m.\u001B[39;49m\u001B[43mrecv_into\u001B[49m\u001B[43m(\u001B[49m\u001B[43mb\u001B[49m\u001B[43m)\u001B[49m\n\u001B[1;32m    670\u001B[0m     \u001B[38;5;28;01mexcept\u001B[39;00m timeout:\n\u001B[1;32m    671\u001B[0m         \u001B[38;5;28mself\u001B[39m\u001B[38;5;241m.\u001B[39m_timeout_occurred \u001B[38;5;241m=\u001B[39m \u001B[38;5;28;01mTrue\u001B[39;00m\n",
      "\u001B[0;31mKeyboardInterrupt\u001B[0m: "
     ]
    }
   ],
   "source": [
    "for f in Path('./artists/').glob('*.csv'):\n",
    "    df = pd.read_csv(f)\n",
    "    for i,row in df.iterrows():\n",
    "        artist_id, artist_name, artist_link = row\n",
    "        _, artist_info, art_num = get_artist_info(artist_link)\n",
    "\n",
    "        with open('CMOA_artist.csv', 'a', newline='') as out_artist:\n",
    "            artist_data = {\n",
    "                'Id':artist_id,\n",
    "                'Full Name':artist_name,\n",
    "                'Webpage':artist_link,\n",
    "                'Number of Arts':art_num,\n",
    "                'Description':artist_info\n",
    "            }\n",
    "            fieldnames = artist_data.keys()\n",
    "            writer = csv.DictWriter(out_artist, fieldnames=fieldnames)\n",
    "            writer.writerow(artist_data)\n",
    "        if art_num == 0: continue\n",
    "\n",
    "        assert driver.current_url == artist_link\n",
    "        art_items = driver.find_elements('css selector', '[data-test=\"artworkGridItem\"]')\n",
    "        art_links = [a.find_element('xpath', './a').get_attribute('href') for a in art_items]\n",
    "        assert len(art_links) == art_num\n",
    "\n",
    "        for art_link in art_links:\n",
    "            art_data = get_art_data(art_link, artist_name)\n",
    "            with open('CMOA_asset.csv', 'a', newline='') as out_asset:\n",
    "                fieldnames = art_data.keys()\n",
    "                writer = csv.DictWriter(out_asset, fieldnames=fieldnames)\n",
    "                writer.writerow(art_data)\n",
    "\n",
    "            with open('CMOA_relationship.csv', 'a', newline='') as out_rela:\n",
    "                rela_data = {\n",
    "                    'Id': uuid.uuid4().hex,\n",
    "                    'AuthorId':artist_id,\n",
    "                    'Art_id':art_data['Id'],\n",
    "                }\n",
    "                fieldnames = rela_data.keys()\n",
    "                writer = csv.DictWriter(out_rela, fieldnames=fieldnames)\n",
    "                writer.writerow(rela_data)\n",
    "\n",
    "    #     if i>10:\n",
    "    #         break\n",
    "    #     # break\n",
    "    # break"
   ],
   "metadata": {
    "collapsed": false,
    "ExecuteTime": {
     "end_time": "2023-08-07T12:56:14.769935Z",
     "start_time": "2023-08-07T12:42:59.038115Z"
    }
   },
   "id": "16c028a7403626bf"
  },
  {
   "cell_type": "code",
   "execution_count": null,
   "outputs": [],
   "source": [],
   "metadata": {
    "collapsed": false
   },
   "id": "19aa35fe45ba0c89"
  }
 ],
 "metadata": {
  "kernelspec": {
   "display_name": "Python 3",
   "language": "python",
   "name": "python3"
  },
  "language_info": {
   "codemirror_mode": {
    "name": "ipython",
    "version": 2
   },
   "file_extension": ".py",
   "mimetype": "text/x-python",
   "name": "python",
   "nbconvert_exporter": "python",
   "pygments_lexer": "ipython2",
   "version": "2.7.6"
  }
 },
 "nbformat": 4,
 "nbformat_minor": 5
}
