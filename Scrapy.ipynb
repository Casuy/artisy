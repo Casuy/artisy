{
 "cells": [
  {
   "cell_type": "markdown",
   "metadata": {},
   "source": [
    "# Import"
   ]
  },
  {
   "cell_type": "code",
   "execution_count": null,
   "metadata": {
    "is_executing": true
   },
   "outputs": [],
   "source": [
    "from pathlib import Path\n",
    "import  time, argparse\n",
    "import csv, sys\n",
    "import pandas as pd\n",
    "import re\n",
    "import uuid\n",
    "from selenium import webdriver\n",
    "from selenium.webdriver.edge.options import Options\n",
    "from selenium.webdriver.edge.service import Service\n",
    "from selenium.webdriver.common.action_chains import ActionChains\n",
    "from selenium import webdriver\n",
    "from selenium.webdriver.support.ui import WebDriverWait\n",
    "from selenium.webdriver.support import expected_conditions as EC\n",
    "from selenium.webdriver.common.by import By"
   ]
  },
  {
   "cell_type": "markdown",
   "metadata": {},
   "source": [
    "# Browser Settings"
   ]
  },
  {
   "cell_type": "code",
   "execution_count": 131,
   "metadata": {},
   "outputs": [
    {
     "name": "stderr",
     "output_type": "stream",
     "text": [
      "Incompatible release of msedgedriver (version 112.0.1722.48) detected in PATH: c:\\Users\\Craig\\OneDrive - Deakin University\\Resume\\Artist Test\\msedgedriver.exe\n"
     ]
    }
   ],
   "source": [
    "# parser = argparse.ArgumentParser()\n",
    "# args = parser.parse_args()\n",
    "driver_path = '../../msedgedriver.exe'\n",
    "\n",
    "options = Options()\n",
    "options.add_argument('disable-gpu')\n",
    "options.add_argument('--log-level=3') \n",
    "# options.add_argument('headless')\n",
    "driver = webdriver.Edge(service=Service(executable_path=driver_path), options=options)\n",
    "# driver.set_window_size(1800, 1400)"
   ]
  },
  {
   "cell_type": "markdown",
   "metadata": {},
   "source": [
    "# Visiting and Crawling"
   ]
  },
  {
   "cell_type": "markdown",
   "metadata": {},
   "source": [
    "## Get Artists"
   ]
  },
  {
   "cell_type": "code",
   "execution_count": 134,
   "metadata": {},
   "outputs": [],
   "source": [
    "def get_artist_page():\n",
    "    WebDriverWait(driver, 10).until(lambda driver: len(driver.find_elements('xpath', '//*[@id=\"main\"]/div/div[3]/*'))<2)\n",
    "    # WebDriverWait(driver, 10).until(EC.presence_of_element_located((By.CSS_SELECTOR, '[class*=ArtistsByLetter]')))\n",
    "    artists_elements = driver.find_element('css selector', '[class*=ArtistsByLetter]').find_elements('xpath', '*')\n",
    "    artists_data = pd.DataFrame(columns=['Guid','Name','Link']).set_index('Guid', inplace=True)\n",
    "    for i, artist in enumerate(artists_elements):\n",
    "        artist_guid =  uuid.uuid4().hex\n",
    "        # waiter = WebDriverWait(driver, 15)\n",
    "        # waiter.until(EC.visibility_of_element_located((By.XPATH, '//*[@id=\"main\"]/div/div[3]/div/div/div[{}]/a'.format(str(i+1)))))\n",
    "        # print(i,artist.text)\n",
    "        link = artist.find_element('xpath', '*').get_attribute('href')\n",
    "        name = artist.text\n",
    "        artist_data = {\n",
    "            'Guid':artist_guid,\n",
    "            'Name':name,\n",
    "            'Link':link\n",
    "        }\n",
    "        new_df = pd.DataFrame(artist_data, index=[0])\n",
    "        new_df.set_index('Guid', inplace=True)\n",
    "        artists_data = pd.concat([artists_data, new_df])\n",
    "    letter = driver.find_element('css selector', '[aria-label=\"Breadcrumb\"]').find_element('xpath', './preceding::*[1]').text.split(' ')[-1]\n",
    "    page = driver.current_url.split('=')[-1] if '=' in driver.current_url else '1'\n",
    "    artists_data.to_csv('artists/Artist-{}-{}.csv'.format(letter, page))\n",
    "    print('Artists list obtained with initial {} on page-{}'.format(letter, page))\n",
    "    return letter, int(page)\n",
    "    \n",
    "def click_next_page():\n",
    "    pagination = driver.find_element('css selector', '[aria-label=\"Pagination\"]')\n",
    "    next_btn = pagination.find_elements('xpath', '*')[-1]\n",
    "    if next_btn.get_attribute('href'):\n",
    "        next_btn.click()\n",
    "        # time.sleep(1)\n",
    "        return True\n",
    "    else: \n",
    "        print('No more pages in current letter.')\n",
    "        return False"
   ]
  },
  {
   "cell_type": "code",
   "execution_count": 135,
   "metadata": {},
   "outputs": [
    {
     "name": "stdout",
     "output_type": "stream",
     "text": [
      "Artists list obtained with initial A on page-1\n",
      "Artists list obtained with initial A on page-2\n",
      "Artists list obtained with initial A on page-3\n"
     ]
    }
   ],
   "source": [
    "starting_letter = 'a'\n",
    "starting_page = 1\n",
    "stopping_page = 3\n",
    "url = 'https://www.artsy.net/artists/artists-starting-with-{}?page={}'.format(starting_letter, starting_page)\n",
    "driver.get(url)\n",
    "while True:    \n",
    "    letter, page = get_artist_page()\n",
    "    if not click_next_page() or page>= stopping_page:\n",
    "        break"
   ]
  },
  {
   "cell_type": "markdown",
   "metadata": {},
   "source": [
    "## Get Arts & Author's info"
   ]
  },
  {
   "cell_type": "code",
   "execution_count": 216,
   "metadata": {},
   "outputs": [],
   "source": [
    "def get_artist_info(artist_link):\n",
    "    driver.get(artist_link)\n",
    "    artist_block = driver.find_element('xpath', '//*[@id=\"main\"]/div/div[2]/div/div[1]/div/div[2]')\n",
    "    # //*[@id=\"main\"]/div/div[2]/div/div[1]/div/div[2]\n",
    "    if len(artist_block.find_elements('xpath', '*'))>1:\n",
    "        artist_name, artist_info = artist_block.text.split('\\n')\n",
    "    else: \n",
    "        artist_name = artist_block.text\n",
    "        artist_info = None\n",
    "        \n",
    "    if len(driver.find_elements('css selector', '[class*=\"Message__Container\"]')) > 0:\n",
    "        art_num = 0\n",
    "    else: \n",
    "        # todo: find fresnel-at-xs & fresnel-greaterThan-xs \n",
    "        xs_block = driver.find_elements('class name', 'fresnel-at-xs')\n",
    "        art_num = len(driver.find_elements('css selector', '[data-test=\"artworkGridItem\"]'))\n",
    "    # art_num = len(driver.find_element('xpath', '//*[@id=\"main\"]/div/div[7]/div[3]/div[1]').find_elements('xpath', '*'))\n",
    "    return artist_name, artist_info, art_num\n",
    "\n",
    "def get_art_data(art_link, artist):\n",
    "    driver.get(art_link)\n",
    "    art_guid =  uuid.uuid4().hex\n",
    "    artwork_sidebar = driver.find_element('css selector', '[data-test=\"artworkSidebar\"]')\n",
    "    art_author = artist\n",
    "    art_name = artwork_sidebar.find_element('xpath', './h1/i').text\n",
    "    art_loc = artwork_sidebar.find_element('xpath', './h1').text.split(', ')[-1]\n",
    "    art_sale = artwork_sidebar.find_elements('css selector', '[data-test=\"SaleMessage\"]')\n",
    "    art_price = art_sale[0].text if len(art_sale)>0 else ''\n",
    "    # art_matierial = artwork_sidebar.find_element('xpath', './div[3]/div[1]').text\n",
    "    # art_size = artwork_sidebar.find_element('xpath', './div[3]/div[2]').text\n",
    "\n",
    "    art_detail = driver.find_elements('css selector', '[class*=\"ReadMore__Container\"]')\n",
    "    if len(art_detail)>0: \n",
    "        art_detail[0].click()\n",
    "        art_des = art_detail[0].text\n",
    "    else: art_des = ''\n",
    "\n",
    "    art_data = {\n",
    "            'Id':art_guid,\n",
    "            'Title':art_name,\n",
    "            'Author': artist,\n",
    "            'Locale':art_loc,\n",
    "            'Link':art_link,\n",
    "            'Price':art_price,\n",
    "            'Description':art_des,\n",
    "            # 'Material':art_matierial,\n",
    "            # 'Size':art_size\n",
    "        }\n",
    "    return art_data"
   ]
  },
  {
   "cell_type": "code",
   "execution_count": 217,
   "metadata": {},
   "outputs": [],
   "source": [
    "with open('CMOA_artist.csv', 'w', newline='') as f:\n",
    "    writer = csv.DictWriter(f, fieldnames=['Id','Full Name','Webpage','Number of Arts','Description'])\n",
    "    writer.writeheader()\n",
    "    f.close()\n",
    "with open('CMOA_asset.csv', 'w', newline='') as f:\n",
    "    writer = csv.DictWriter(f, fieldnames=['Id','Title','Author','Locale','Link','Price','Description'])\n",
    "    writer.writeheader()\n",
    "    f.close()\n",
    "with open('CMOA_relationship.csv', 'w', newline='') as f:\n",
    "    writer = csv.DictWriter(f, fieldnames=['Id','AuthorId','Art_id'])\n",
    "    writer.writeheader()\n",
    "    f.close()"
   ]
  },
  {
   "cell_type": "code",
   "execution_count": 218,
   "metadata": {},
   "outputs": [
    {
     "ename": "NoSuchElementException",
     "evalue": "Message: no such element: Unable to locate element: {\"method\":\"css selector\",\"selector\":\"[data-test=\"artworkSidebar\"]\"}\n  (Session info: MicrosoftEdge=112.0.1722.64)\nStacktrace:\nBacktrace:\n\tGetHandleVerifier [0x00007FF7CFE8E022+60274]\n\tMicrosoft::Applications::Events::EventProperty::~EventProperty [0x00007FF7CFE1EC82+818786]\n\t(No symbol) [0x00007FF7CFA9DFAE]\n\t(No symbol) [0x00007FF7CFADFAA1]\n\t(No symbol) [0x00007FF7CFADFC28]\n\t(No symbol) [0x00007FF7CFB1B687]\n\t(No symbol) [0x00007FF7CFAFF5AF]\n\t(No symbol) [0x00007FF7CFAD2751]\n\t(No symbol) [0x00007FF7CFB1891C]\n\t(No symbol) [0x00007FF7CFAFF343]\n\t(No symbol) [0x00007FF7CFAD1796]\n\t(No symbol) [0x00007FF7CFAD0975]\n\t(No symbol) [0x00007FF7CFAD1F04]\n\tMicrosoft::Applications::Events::EventProperties::SetLevel [0x00007FF7CFD27167+1678103]\n\tMicrosoft::Applications::Events::EventProperties::SetLevel [0x00007FF7CFBCEEBD+268397]\n\tMicrosoft::Applications::Events::EventProperty::~EventProperty [0x00007FF7CFD5FE77+36951]\n\tMicrosoft::Applications::Events::EventProperty::~EventProperty [0x00007FF7CFD57F85+4453]\n\tMicrosoft::Applications::Events::ILogManager::DispatchEventBroadcast [0x00007FF7D0058163+1318403]\n\tMicrosoft::Applications::Events::EventProperty::~EventProperty [0x00007FF7CFE26D3C+851740]\n\tMicrosoft::Applications::Events::EventProperty::~EventProperty [0x00007FF7CFE22DA4+835460]\n\tMicrosoft::Applications::Events::EventProperty::~EventProperty [0x00007FF7CFE22EFC+835804]\n\tMicrosoft::Applications::Events::EventProperty::~EventProperty [0x00007FF7CFE18AD1+793777]\n\tBaseThreadInitThunk [0x00007FFBCA8626AD+29]\n\tRtlUserThreadStart [0x00007FFBCB2EAA68+40]\n",
     "output_type": "error",
     "traceback": [
      "\u001B[1;31m---------------------------------------------------------------------------\u001B[0m",
      "\u001B[1;31mNoSuchElementException\u001B[0m                    Traceback (most recent call last)",
      "\u001B[1;32m~\\AppData\\Local\\Temp\\ipykernel_21992\\2075326332.py\u001B[0m in \u001B[0;36m<module>\u001B[1;34m\u001B[0m\n\u001B[0;32m     24\u001B[0m \u001B[1;33m\u001B[0m\u001B[0m\n\u001B[0;32m     25\u001B[0m         \u001B[1;32mfor\u001B[0m \u001B[0mart_link\u001B[0m \u001B[1;32min\u001B[0m \u001B[0mart_links\u001B[0m\u001B[1;33m:\u001B[0m\u001B[1;33m\u001B[0m\u001B[1;33m\u001B[0m\u001B[0m\n\u001B[1;32m---> 26\u001B[1;33m             \u001B[0mart_data\u001B[0m \u001B[1;33m=\u001B[0m \u001B[0mget_art_data\u001B[0m\u001B[1;33m(\u001B[0m\u001B[0mart_link\u001B[0m\u001B[1;33m,\u001B[0m \u001B[0martist_name\u001B[0m\u001B[1;33m)\u001B[0m\u001B[1;33m\u001B[0m\u001B[1;33m\u001B[0m\u001B[0m\n\u001B[0m\u001B[0;32m     27\u001B[0m             \u001B[1;32mwith\u001B[0m \u001B[0mopen\u001B[0m\u001B[1;33m(\u001B[0m\u001B[1;34m'CMOA_asset.csv'\u001B[0m\u001B[1;33m,\u001B[0m \u001B[1;34m'a'\u001B[0m\u001B[1;33m,\u001B[0m \u001B[0mnewline\u001B[0m\u001B[1;33m=\u001B[0m\u001B[1;34m''\u001B[0m\u001B[1;33m)\u001B[0m \u001B[1;32mas\u001B[0m \u001B[0mout_asset\u001B[0m\u001B[1;33m:\u001B[0m\u001B[1;33m\u001B[0m\u001B[1;33m\u001B[0m\u001B[0m\n\u001B[0;32m     28\u001B[0m                 \u001B[0mfieldnames\u001B[0m \u001B[1;33m=\u001B[0m \u001B[0mart_data\u001B[0m\u001B[1;33m.\u001B[0m\u001B[0mkeys\u001B[0m\u001B[1;33m(\u001B[0m\u001B[1;33m)\u001B[0m\u001B[1;33m\u001B[0m\u001B[1;33m\u001B[0m\u001B[0m\n",
      "\u001B[1;32m~\\AppData\\Local\\Temp\\ipykernel_21992\\3424586815.py\u001B[0m in \u001B[0;36mget_art_data\u001B[1;34m(art_link, artist)\u001B[0m\n\u001B[0;32m     18\u001B[0m     \u001B[0mdriver\u001B[0m\u001B[1;33m.\u001B[0m\u001B[0mget\u001B[0m\u001B[1;33m(\u001B[0m\u001B[0mart_link\u001B[0m\u001B[1;33m)\u001B[0m\u001B[1;33m\u001B[0m\u001B[1;33m\u001B[0m\u001B[0m\n\u001B[0;32m     19\u001B[0m     \u001B[0mart_guid\u001B[0m \u001B[1;33m=\u001B[0m  \u001B[0muuid\u001B[0m\u001B[1;33m.\u001B[0m\u001B[0muuid4\u001B[0m\u001B[1;33m(\u001B[0m\u001B[1;33m)\u001B[0m\u001B[1;33m.\u001B[0m\u001B[0mhex\u001B[0m\u001B[1;33m\u001B[0m\u001B[1;33m\u001B[0m\u001B[0m\n\u001B[1;32m---> 20\u001B[1;33m     \u001B[0martwork_sidebar\u001B[0m \u001B[1;33m=\u001B[0m \u001B[0mdriver\u001B[0m\u001B[1;33m.\u001B[0m\u001B[0mfind_element\u001B[0m\u001B[1;33m(\u001B[0m\u001B[1;34m'css selector'\u001B[0m\u001B[1;33m,\u001B[0m \u001B[1;34m'[data-test=\"artworkSidebar\"]'\u001B[0m\u001B[1;33m)\u001B[0m\u001B[1;33m\u001B[0m\u001B[1;33m\u001B[0m\u001B[0m\n\u001B[0m\u001B[0;32m     21\u001B[0m     \u001B[0mart_author\u001B[0m \u001B[1;33m=\u001B[0m \u001B[0martist\u001B[0m\u001B[1;33m\u001B[0m\u001B[1;33m\u001B[0m\u001B[0m\n\u001B[0;32m     22\u001B[0m     \u001B[0mart_name\u001B[0m \u001B[1;33m=\u001B[0m \u001B[0martwork_sidebar\u001B[0m\u001B[1;33m.\u001B[0m\u001B[0mfind_element\u001B[0m\u001B[1;33m(\u001B[0m\u001B[1;34m'xpath'\u001B[0m\u001B[1;33m,\u001B[0m \u001B[1;34m'./h1/i'\u001B[0m\u001B[1;33m)\u001B[0m\u001B[1;33m.\u001B[0m\u001B[0mtext\u001B[0m\u001B[1;33m\u001B[0m\u001B[1;33m\u001B[0m\u001B[0m\n",
      "\u001B[1;32m~\\AppData\\Roaming\\Python\\Python39\\site-packages\\selenium\\webdriver\\remote\\webdriver.py\u001B[0m in \u001B[0;36mfind_element\u001B[1;34m(self, by, value)\u001B[0m\n\u001B[0;32m    829\u001B[0m             \u001B[0mvalue\u001B[0m \u001B[1;33m=\u001B[0m \u001B[1;34mf'[name=\"{value}\"]'\u001B[0m\u001B[1;33m\u001B[0m\u001B[1;33m\u001B[0m\u001B[0m\n\u001B[0;32m    830\u001B[0m \u001B[1;33m\u001B[0m\u001B[0m\n\u001B[1;32m--> 831\u001B[1;33m         \u001B[1;32mreturn\u001B[0m \u001B[0mself\u001B[0m\u001B[1;33m.\u001B[0m\u001B[0mexecute\u001B[0m\u001B[1;33m(\u001B[0m\u001B[0mCommand\u001B[0m\u001B[1;33m.\u001B[0m\u001B[0mFIND_ELEMENT\u001B[0m\u001B[1;33m,\u001B[0m \u001B[1;33m{\u001B[0m\u001B[1;34m\"using\"\u001B[0m\u001B[1;33m:\u001B[0m \u001B[0mby\u001B[0m\u001B[1;33m,\u001B[0m \u001B[1;34m\"value\"\u001B[0m\u001B[1;33m:\u001B[0m \u001B[0mvalue\u001B[0m\u001B[1;33m}\u001B[0m\u001B[1;33m)\u001B[0m\u001B[1;33m[\u001B[0m\u001B[1;34m\"value\"\u001B[0m\u001B[1;33m]\u001B[0m\u001B[1;33m\u001B[0m\u001B[1;33m\u001B[0m\u001B[0m\n\u001B[0m\u001B[0;32m    832\u001B[0m \u001B[1;33m\u001B[0m\u001B[0m\n\u001B[0;32m    833\u001B[0m     \u001B[1;32mdef\u001B[0m \u001B[0mfind_elements\u001B[0m\u001B[1;33m(\u001B[0m\u001B[0mself\u001B[0m\u001B[1;33m,\u001B[0m \u001B[0mby\u001B[0m\u001B[1;33m=\u001B[0m\u001B[0mBy\u001B[0m\u001B[1;33m.\u001B[0m\u001B[0mID\u001B[0m\u001B[1;33m,\u001B[0m \u001B[0mvalue\u001B[0m\u001B[1;33m:\u001B[0m \u001B[0mOptional\u001B[0m\u001B[1;33m[\u001B[0m\u001B[0mstr\u001B[0m\u001B[1;33m]\u001B[0m \u001B[1;33m=\u001B[0m \u001B[1;32mNone\u001B[0m\u001B[1;33m)\u001B[0m \u001B[1;33m->\u001B[0m \u001B[0mList\u001B[0m\u001B[1;33m[\u001B[0m\u001B[0mWebElement\u001B[0m\u001B[1;33m]\u001B[0m\u001B[1;33m:\u001B[0m\u001B[1;33m\u001B[0m\u001B[1;33m\u001B[0m\u001B[0m\n",
      "\u001B[1;32m~\\AppData\\Roaming\\Python\\Python39\\site-packages\\selenium\\webdriver\\remote\\webdriver.py\u001B[0m in \u001B[0;36mexecute\u001B[1;34m(self, driver_command, params)\u001B[0m\n\u001B[0;32m    438\u001B[0m         \u001B[0mresponse\u001B[0m \u001B[1;33m=\u001B[0m \u001B[0mself\u001B[0m\u001B[1;33m.\u001B[0m\u001B[0mcommand_executor\u001B[0m\u001B[1;33m.\u001B[0m\u001B[0mexecute\u001B[0m\u001B[1;33m(\u001B[0m\u001B[0mdriver_command\u001B[0m\u001B[1;33m,\u001B[0m \u001B[0mparams\u001B[0m\u001B[1;33m)\u001B[0m\u001B[1;33m\u001B[0m\u001B[1;33m\u001B[0m\u001B[0m\n\u001B[0;32m    439\u001B[0m         \u001B[1;32mif\u001B[0m \u001B[0mresponse\u001B[0m\u001B[1;33m:\u001B[0m\u001B[1;33m\u001B[0m\u001B[1;33m\u001B[0m\u001B[0m\n\u001B[1;32m--> 440\u001B[1;33m             \u001B[0mself\u001B[0m\u001B[1;33m.\u001B[0m\u001B[0merror_handler\u001B[0m\u001B[1;33m.\u001B[0m\u001B[0mcheck_response\u001B[0m\u001B[1;33m(\u001B[0m\u001B[0mresponse\u001B[0m\u001B[1;33m)\u001B[0m\u001B[1;33m\u001B[0m\u001B[1;33m\u001B[0m\u001B[0m\n\u001B[0m\u001B[0;32m    441\u001B[0m             \u001B[0mresponse\u001B[0m\u001B[1;33m[\u001B[0m\u001B[1;34m\"value\"\u001B[0m\u001B[1;33m]\u001B[0m \u001B[1;33m=\u001B[0m \u001B[0mself\u001B[0m\u001B[1;33m.\u001B[0m\u001B[0m_unwrap_value\u001B[0m\u001B[1;33m(\u001B[0m\u001B[0mresponse\u001B[0m\u001B[1;33m.\u001B[0m\u001B[0mget\u001B[0m\u001B[1;33m(\u001B[0m\u001B[1;34m\"value\"\u001B[0m\u001B[1;33m,\u001B[0m \u001B[1;32mNone\u001B[0m\u001B[1;33m)\u001B[0m\u001B[1;33m)\u001B[0m\u001B[1;33m\u001B[0m\u001B[1;33m\u001B[0m\u001B[0m\n\u001B[0;32m    442\u001B[0m             \u001B[1;32mreturn\u001B[0m \u001B[0mresponse\u001B[0m\u001B[1;33m\u001B[0m\u001B[1;33m\u001B[0m\u001B[0m\n",
      "\u001B[1;32m~\\AppData\\Roaming\\Python\\Python39\\site-packages\\selenium\\webdriver\\remote\\errorhandler.py\u001B[0m in \u001B[0;36mcheck_response\u001B[1;34m(self, response)\u001B[0m\n\u001B[0;32m    243\u001B[0m                 \u001B[0malert_text\u001B[0m \u001B[1;33m=\u001B[0m \u001B[0mvalue\u001B[0m\u001B[1;33m[\u001B[0m\u001B[1;34m\"alert\"\u001B[0m\u001B[1;33m]\u001B[0m\u001B[1;33m.\u001B[0m\u001B[0mget\u001B[0m\u001B[1;33m(\u001B[0m\u001B[1;34m\"text\"\u001B[0m\u001B[1;33m)\u001B[0m\u001B[1;33m\u001B[0m\u001B[1;33m\u001B[0m\u001B[0m\n\u001B[0;32m    244\u001B[0m             \u001B[1;32mraise\u001B[0m \u001B[0mexception_class\u001B[0m\u001B[1;33m(\u001B[0m\u001B[0mmessage\u001B[0m\u001B[1;33m,\u001B[0m \u001B[0mscreen\u001B[0m\u001B[1;33m,\u001B[0m \u001B[0mstacktrace\u001B[0m\u001B[1;33m,\u001B[0m \u001B[0malert_text\u001B[0m\u001B[1;33m)\u001B[0m  \u001B[1;31m# type: ignore[call-arg]  # mypy is not smart enough here\u001B[0m\u001B[1;33m\u001B[0m\u001B[1;33m\u001B[0m\u001B[0m\n\u001B[1;32m--> 245\u001B[1;33m         \u001B[1;32mraise\u001B[0m \u001B[0mexception_class\u001B[0m\u001B[1;33m(\u001B[0m\u001B[0mmessage\u001B[0m\u001B[1;33m,\u001B[0m \u001B[0mscreen\u001B[0m\u001B[1;33m,\u001B[0m \u001B[0mstacktrace\u001B[0m\u001B[1;33m)\u001B[0m\u001B[1;33m\u001B[0m\u001B[1;33m\u001B[0m\u001B[0m\n\u001B[0m",
      "\u001B[1;31mNoSuchElementException\u001B[0m: Message: no such element: Unable to locate element: {\"method\":\"css selector\",\"selector\":\"[data-test=\"artworkSidebar\"]\"}\n  (Session info: MicrosoftEdge=112.0.1722.64)\nStacktrace:\nBacktrace:\n\tGetHandleVerifier [0x00007FF7CFE8E022+60274]\n\tMicrosoft::Applications::Events::EventProperty::~EventProperty [0x00007FF7CFE1EC82+818786]\n\t(No symbol) [0x00007FF7CFA9DFAE]\n\t(No symbol) [0x00007FF7CFADFAA1]\n\t(No symbol) [0x00007FF7CFADFC28]\n\t(No symbol) [0x00007FF7CFB1B687]\n\t(No symbol) [0x00007FF7CFAFF5AF]\n\t(No symbol) [0x00007FF7CFAD2751]\n\t(No symbol) [0x00007FF7CFB1891C]\n\t(No symbol) [0x00007FF7CFAFF343]\n\t(No symbol) [0x00007FF7CFAD1796]\n\t(No symbol) [0x00007FF7CFAD0975]\n\t(No symbol) [0x00007FF7CFAD1F04]\n\tMicrosoft::Applications::Events::EventProperties::SetLevel [0x00007FF7CFD27167+1678103]\n\tMicrosoft::Applications::Events::EventProperties::SetLevel [0x00007FF7CFBCEEBD+268397]\n\tMicrosoft::Applications::Events::EventProperty::~EventProperty [0x00007FF7CFD5FE77+36951]\n\tMicrosoft::Applications::Events::EventProperty::~EventProperty [0x00007FF7CFD57F85+4453]\n\tMicrosoft::Applications::Events::ILogManager::DispatchEventBroadcast [0x00007FF7D0058163+1318403]\n\tMicrosoft::Applications::Events::EventProperty::~EventProperty [0x00007FF7CFE26D3C+851740]\n\tMicrosoft::Applications::Events::EventProperty::~EventProperty [0x00007FF7CFE22DA4+835460]\n\tMicrosoft::Applications::Events::EventProperty::~EventProperty [0x00007FF7CFE22EFC+835804]\n\tMicrosoft::Applications::Events::EventProperty::~EventProperty [0x00007FF7CFE18AD1+793777]\n\tBaseThreadInitThunk [0x00007FFBCA8626AD+29]\n\tRtlUserThreadStart [0x00007FFBCB2EAA68+40]\n"
     ]
    }
   ],
   "source": [
    "for f in Path('./artists/').glob('*.csv'):\n",
    "    df = pd.read_csv(f)\n",
    "    for i,row in df.iterrows():\n",
    "        artist_id, artist_name, artist_link = row\n",
    "        _, artist_info, art_num = get_artist_info(artist_link)\n",
    "\n",
    "        with open('CMOA_artist.csv', 'a', newline='') as out_artist:\n",
    "            artist_data = {\n",
    "                'Id':artist_id,\n",
    "                'Full Name':artist_name,\n",
    "                'Webpage':artist_link,\n",
    "                'Number of Arts':art_num,\n",
    "                'Description':artist_info\n",
    "            }\n",
    "            fieldnames = artist_data.keys()\n",
    "            writer = csv.DictWriter(out_artist, fieldnames=fieldnames)\n",
    "            writer.writerow(artist_data)\n",
    "        if art_num == 0: continue\n",
    "\n",
    "        assert driver.current_url == artist_link\n",
    "        art_items = driver.find_elements('css selector', '[data-test=\"artworkGridItem\"]')\n",
    "        art_links = [a.find_element('xpath', './a').get_attribute('href') for a in art_items]\n",
    "        assert len(art_links) == art_num\n",
    "\n",
    "        for art_link in art_links:\n",
    "            art_data = get_art_data(art_link, artist_name)\n",
    "            with open('CMOA_asset.csv', 'a', newline='') as out_asset:\n",
    "                fieldnames = art_data.keys()\n",
    "                writer = csv.DictWriter(out_asset, fieldnames=fieldnames)\n",
    "                writer.writerow(art_data)\n",
    "\n",
    "            with open('CMOA_relationship.csv', 'a', newline='') as out_rela:\n",
    "                rela_data = {\n",
    "                    'Id': uuid.uuid4().hex,\n",
    "                    'AuthorId':artist_id,\n",
    "                    'Art_id':art_data['Id'],\n",
    "                }\n",
    "                fieldnames = rela_data.keys()\n",
    "                writer = csv.DictWriter(out_rela, fieldnames=fieldnames)\n",
    "                writer.writerow(rela_data)\n",
    "\n",
    "    #     if i>10:\n",
    "    #         break\n",
    "    #     # break\n",
    "    # break"
   ]
  }
 ],
 "metadata": {
  "kernelspec": {
   "display_name": "base",
   "language": "python",
   "name": "python3"
  },
  "language_info": {
   "codemirror_mode": {
    "name": "ipython",
    "version": 3
   },
   "file_extension": ".py",
   "mimetype": "text/x-python",
   "name": "python",
   "nbconvert_exporter": "python",
   "pygments_lexer": "ipython3",
   "version": "3.9.13"
  },
  "orig_nbformat": 4
 },
 "nbformat": 4,
 "nbformat_minor": 2
}
